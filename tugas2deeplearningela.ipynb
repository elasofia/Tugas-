{
 "cells": [
  {
   "cell_type": "code",
   "execution_count": 2,
   "metadata": {},
   "outputs": [
    {
     "name": "stdout",
     "output_type": "stream",
     "text": [
      "Ela tipenya adalah  <class 'str'>\n"
     ]
    }
   ],
   "source": [
    "x = \"Ela\"\n",
    "print (x, \"tipenya adalah \", type(x))"
   ]
  },
  {
   "cell_type": "code",
   "execution_count": 3,
   "metadata": {},
   "outputs": [
    {
     "name": "stdout",
     "output_type": "stream",
     "text": [
      "8 tipenya adalah  <class 'int'>\n"
     ]
    }
   ],
   "source": [
    "x = 8\n",
    "print (x, \"tipenya adalah \", type(x))"
   ]
  },
  {
   "cell_type": "code",
   "execution_count": 5,
   "metadata": {},
   "outputs": [
    {
     "name": "stdout",
     "output_type": "stream",
     "text": [
      "8.0 tipenya adalah  <class 'float'>\n"
     ]
    }
   ],
   "source": [
    "x = 8.0\n",
    "print (x, \"tipenya adalah \", type(x))"
   ]
  },
  {
   "cell_type": "code",
   "execution_count": 7,
   "metadata": {},
   "outputs": [
    {
     "name": "stdout",
     "output_type": "stream",
     "text": [
      "(2+4j) tipenya adalah  <class 'complex'>\n"
     ]
    }
   ],
   "source": [
    "x = 2+4j\n",
    "print (x, \"tipenya adalah \", type(x))"
   ]
  },
  {
   "cell_type": "code",
   "execution_count": 8,
   "metadata": {},
   "outputs": [
    {
     "name": "stdout",
     "output_type": "stream",
     "text": [
      "Nama saya Ela Sofia\n"
     ]
    }
   ],
   "source": [
    "kalimat = \"Nama saya Ela Sofia\"\n",
    "print (kalimat)"
   ]
  },
  {
   "cell_type": "code",
   "execution_count": 11,
   "metadata": {},
   "outputs": [
    {
     "name": "stdout",
     "output_type": "stream",
     "text": [
      "['xyz', 786, 2.23] tipenya adalah  <class 'list'>\n"
     ]
    }
   ],
   "source": [
    "x = ['xyz',786,2.23]\n",
    "print (x, \"tipenya adalah \", type(x))"
   ]
  },
  {
   "cell_type": "code",
   "execution_count": 13,
   "metadata": {},
   "outputs": [
    {
     "name": "stdout",
     "output_type": "stream",
     "text": [
      "('xyz', 768, 2.23) tipenya adalah  <class 'tuple'>\n"
     ]
    }
   ],
   "source": [
    "x = ('xyz', 768, 2.23)\n",
    "print (x, \"tipenya adalah \", type(x))"
   ]
  },
  {
   "cell_type": "code",
   "execution_count": 14,
   "metadata": {},
   "outputs": [
    {
     "name": "stdout",
     "output_type": "stream",
     "text": [
      "{'nama': 'adi', 'id': 2} tipenya adalah  <class 'dict'>\n"
     ]
    }
   ],
   "source": [
    "x = {'nama': 'adi','id' : 2}\n",
    "print (x, \"tipenya adalah \", type(x))"
   ]
  },
  {
   "cell_type": "code",
   "execution_count": 16,
   "metadata": {},
   "outputs": [
    {
     "name": "stdout",
     "output_type": "stream",
     "text": [
      "1\n",
      "2\n",
      "3\n"
     ]
    }
   ],
   "source": [
    "angka = 1\n",
    "while angka < 4:\n",
    "    print(angka)\n",
    "    angka +=1"
   ]
  },
  {
   "cell_type": "code",
   "execution_count": 17,
   "metadata": {},
   "outputs": [
    {
     "name": "stdout",
     "output_type": "stream",
     "text": [
      "D\n",
      "e\n",
      "e\n",
      "p\n"
     ]
    }
   ],
   "source": [
    "string = \"Deep\"\n",
    "for x in string:\n",
    "    print (x)"
   ]
  },
  {
   "cell_type": "code",
   "execution_count": 19,
   "metadata": {},
   "outputs": [
    {
     "name": "stdout",
     "output_type": "stream",
     "text": [
      "1\n",
      "22\n",
      "333\n",
      "4444\n",
      "55555\n",
      "666666\n",
      "7777777\n",
      "88888888\n",
      "999999999\n"
     ]
    }
   ],
   "source": [
    "for i in range(1,10):\n",
    "    for j in range(i):\n",
    "        print (i, end='')\n",
    "    print()"
   ]
  },
  {
   "cell_type": "code",
   "execution_count": null,
   "metadata": {},
   "outputs": [],
   "source": []
  }
 ],
 "metadata": {
  "kernelspec": {
   "display_name": "Python 3",
   "language": "python",
   "name": "python3"
  },
  "language_info": {
   "codemirror_mode": {
    "name": "ipython",
    "version": 3
   },
   "file_extension": ".py",
   "mimetype": "text/x-python",
   "name": "python",
   "nbconvert_exporter": "python",
   "pygments_lexer": "ipython3",
   "version": "3.6.2"
  }
 },
 "nbformat": 4,
 "nbformat_minor": 2
}
